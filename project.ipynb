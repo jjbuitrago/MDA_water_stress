{
 "cells": [
  {
   "cell_type": "markdown",
   "metadata": {},
   "source": [
    "# Water security project for Modern Data Analytics "
   ]
  },
  {
   "cell_type": "markdown",
   "metadata": {},
   "source": [
    "In the following code cell I will import all the necessary packages"
   ]
  },
  {
   "cell_type": "code",
   "execution_count": 107,
   "metadata": {},
   "outputs": [],
   "source": [
    "# Data processing\n",
    "import pandas as pd\n",
    "import matplotlib.pyplot as plt\n",
    "import requests\n",
    "\n",
    "# Models\n",
    "from sklearn import tree\n",
    "from sklearn.model_selection import train_test_split\n",
    "from sklearn import metrics\n",
    "from sklearn.ensemble import RandomForestClassifier, GradientBoostingClassifier\n",
    "\n",
    "import graphviz\n",
    "from graphviz import Source\n"
   ]
  },
  {
   "cell_type": "markdown",
   "metadata": {},
   "source": [
    "## 1. United Nations UN water data"
   ]
  },
  {
   "cell_type": "markdown",
   "metadata": {},
   "source": [
    "#### 1.1 Data fetching"
   ]
  },
  {
   "cell_type": "markdown",
   "metadata": {},
   "source": [
    "Using the United Nations Water webpage, we can build a dataframe that brings global indicators regarding social, economical and enviromental indicators. Even if the webpage is itself an interactive map, we can make use of the API that the browser uses to get the data. By taking a look at how the browser would make use of the API, we would do it the same way by changing some parameters. Later, we would analyze the data using the tools reviewed in the lectures"
   ]
  },
  {
   "cell_type": "code",
   "execution_count": 56,
   "metadata": {},
   "outputs": [],
   "source": [
    "# 6.1.1 Proportion of population using safely managed drinking water services\n",
    "url = \"https://www.sdg6data.org/handle-ajax-callback\"\n",
    "\n",
    "headers = {\n",
    "    \"User-Agent\": \"Mozilla/5.0 (X11; Linux x86_64; rv:103.0) Gecko/20100101 Firefox/103.0\",\n",
    "    \"Accept\": \"*/*\",\n",
    "    \"Accept-Language\": \"en-US,en;q=0.5\",\n",
    "    \"Content-Type\": \"application/x-www-form-urlencoded; charset=UTF-8\",\n",
    "    \"X-Requested-With\": \"XMLHttpRequest\",\n",
    "    \"Sec-Fetch-Dest\": \"empty\",\n",
    "    \"Sec-Fetch-Mode\": \"cors\",\n",
    "    \"Sec-Fetch-Site\": \"same-origin\"\n",
    "}\n",
    "\n",
    "indicators = [\n",
    "    (\"79_80\", \"0.00\", \"3,850.49\", \"stress\"),  # Water stress\n",
    "    # Renewable water resources in billion cubic meters per year\n",
    "    (\"135_137_138\", \"0.00\", \"8,647.00\", \"renewable\"),\n",
    "    # Degree of integrated water resources management implementation (0-100)\n",
    "    (\"82_83\", \"0.00\", \"100.00\", \"mngmt\"),\n",
    "    # Gross domestic product per capita\n",
    "    (\"483_508\", \"731.06\", \"112,226.90\", \"gdp\"),\n",
    "    # Proportion of population with access to electricity\n",
    "    (\"483_503\", \"0.00\", \"100.0\", \"elec\"),\n",
    "    (\"485_499\", \"0.00\", \"100.00\", \"agr\"),  # Agricultural land (% of land area)\n",
    "    # CO2 emissions, tonnes per capita\n",
    "    (\"485_501\", \"0.00\", \"33.75\", \"emission\")\n",
    "]\n"
   ]
  },
  {
   "cell_type": "markdown",
   "metadata": {},
   "source": [
    "The following function will receive 4 arguments to build a __df__. It will create the _body_ needed for the request and it will return the __df__ with the information by country"
   ]
  },
  {
   "cell_type": "code",
   "execution_count": 57,
   "metadata": {},
   "outputs": [],
   "source": [
    "def generate_df(indicator, min_bound, max_bound, col_name):\n",
    "    r\"\"\"\n",
    "    So after taking a look at the API that the UN Water uses to get the data, it asks for the values regarding the locations, the number of the indicator and the ranges.\n",
    "    Given that the URL and the headers are the same, there are a few parameters that change between each request\n",
    "\n",
    "    Keyword arguments:\n",
    "    indicator -- is like the id of the indicator desired to be fetch\n",
    "    min_bound -- is the minimum value possible to get. In the website it is possible to filter by this value\n",
    "    max_bound -- is the maximum value possible to get. In the website it is possible to filter by this value\n",
    "    col_name -- is the name of the column in the pd.DataFrame\n",
    "    \"\"\"\n",
    "\n",
    "    body = f\"allRegion%5B%5D=World--World&allRegion%5B%5D=Geographical+region--Latin+America+and+the+Caribbean&allRegion%5B%5D=Geographical+region--Asia&allRegion%5B%5D=Geographical+region--Europe&allRegion%5B%5D=Geographical+region--Northern+Africa&allRegion%5B%5D=Geographical+region--Northern+America&allRegion%5B%5D=Geographical+region--Oceania&allRegion%5B%5D=Geographical+region--Sub-Saharan+Africa&indicators%5B%5D={indicator}&ranges%5B0%5D%5B%5D={min_bound}&ranges%5B0%5D%5B%5D={max_bound}\"\n",
    "    req = requests.post(url, headers=headers, data=body)\n",
    "    data = req.json()[\"commonCountriesDataTable\"]\n",
    "    df = pd.DataFrame()\n",
    "    df[\"country\"] = data.keys()\n",
    "    df[col_name] = data.values()\n",
    "    return df\n"
   ]
  },
  {
   "cell_type": "markdown",
   "metadata": {},
   "source": [
    "_indicators_ will be looped using the function created and it will be joined to a first __df__ created using the _water stress_ variable given that it is an important variable for the analysis. The result will be a dataframe with 9 variable of 179 countries"
   ]
  },
  {
   "cell_type": "code",
   "execution_count": 58,
   "metadata": {},
   "outputs": [],
   "source": [
    "ind, min, max, col_name = indicators[0]\n",
    "df = generate_df(ind, min, max, col_name)\n",
    "\n",
    "for ind, min, max, col_name in indicators[1:]:\n",
    "    df_1 = generate_df(ind, min, max, col_name)\n",
    "    df = pd.merge(df, df_1, how=\"left\", on=[\"country\", \"country\"])\n"
   ]
  },
  {
   "cell_type": "markdown",
   "metadata": {},
   "source": [
    "After fetching the data, we look at the dataset to see the variables, its type and how many missing values are in each column."
   ]
  },
  {
   "cell_type": "code",
   "execution_count": 59,
   "metadata": {},
   "outputs": [
    {
     "name": "stdout",
     "output_type": "stream",
     "text": [
      "<class 'pandas.core.frame.DataFrame'>\n",
      "Int64Index: 179 entries, 0 to 178\n",
      "Data columns (total 8 columns):\n",
      " #   Column     Non-Null Count  Dtype \n",
      "---  ------     --------------  ----- \n",
      " 0   country    179 non-null    object\n",
      " 1   stress     179 non-null    object\n",
      " 2   renewable  177 non-null    object\n",
      " 3   mngmt      170 non-null    object\n",
      " 4   gdp        174 non-null    object\n",
      " 5   elec       178 non-null    object\n",
      " 6   agr        178 non-null    object\n",
      " 7   emission   177 non-null    object\n",
      "dtypes: object(8)\n",
      "memory usage: 12.6+ KB\n"
     ]
    },
    {
     "data": {
      "text/plain": [
       "(None,\n",
       "   country    stress renewable  mngmt        gdp    elec    agr emission\n",
       " 0     AFG     54.76     65.33  12.00   1,970.56   97.70  58.08     0.20\n",
       " 1     AGO      1.87    148.40  61.00   6,110.27   45.67  45.68     0.89\n",
       " 2     ALB      6.80     30.20  47.00  13,192.44  100.00  42.85     1.94\n",
       " 3     ARE  1,630.67      0.15  79.00  63,299.42  100.00   5.38    20.80\n",
       " 4     ARG     10.46    876.20  38.00  19,690.66  100.00  54.36     3.99)"
      ]
     },
     "execution_count": 59,
     "metadata": {},
     "output_type": "execute_result"
    }
   ],
   "source": [
    "df.info(), df.head()\n"
   ]
  },
  {
   "cell_type": "markdown",
   "metadata": {},
   "source": [
    "Using the _info_ function, we can see that all the columns are type object, so it is necessary to convert to numeric. Also, for 3 variables de thousands separator should be removed. Also, we can see that the variables do not have considerable missing values, so it is easier to assess this issue with data imputation"
   ]
  },
  {
   "cell_type": "code",
   "execution_count": 60,
   "metadata": {},
   "outputs": [],
   "source": [
    "# Cast the variables as float except the country\n",
    "for col in df.columns[1:]:\n",
    "    if col in [\"stress\", \"renewable\", \"gdp\"]:\n",
    "        df[col] = df[col].str.replace(',', '').astype(float)\n",
    "    else:\n",
    "        df[col] = df[col].astype(float)\n"
   ]
  },
  {
   "cell_type": "code",
   "execution_count": 61,
   "metadata": {},
   "outputs": [],
   "source": [
    "# Fill in the missing values using the mean of the column\n",
    "for col in df.columns[2:]:\n",
    "    df[col] = df[col].fillna(df[col].mean())\n"
   ]
  },
  {
   "cell_type": "code",
   "execution_count": 62,
   "metadata": {},
   "outputs": [],
   "source": [
    "# To determine a high index of water stress, a threshold of 40% has been arbitrarily chosen amongst the scientific water resources modelling community. This will be our target variable in our model\n",
    "# https://rdmc.nottingham.ac.uk/bitstream/handle/internal/188/Geography%20sustainability.old/23_how_can_water_stress_be_calculated.html\n",
    "\n",
    "df[\"high\"] = df[\"stress\"] > 40\n"
   ]
  },
  {
   "cell_type": "code",
   "execution_count": 63,
   "metadata": {},
   "outputs": [],
   "source": [
    "df.to_csv(\"dataset.csv\", index=None)\n",
    "# df = pd.read_csv(\"dataset.csv\")\n"
   ]
  },
  {
   "cell_type": "markdown",
   "metadata": {},
   "source": [
    "#### 1.2 Model"
   ]
  },
  {
   "cell_type": "markdown",
   "metadata": {},
   "source": [
    "This is what we are going to do:\n",
    "1. Fit a decision tree to try to understand who can we classify future data to avoid high stress on water. This way we can see what factors are determinant for high water stress\n",
    "2. Fit a random forest and boosting to try to improve our tree and calculate ROC for both\n",
    "\n",
    "3. With the water org that professor suggested, do NLP to try to see what cities are doing regarding water stress\n",
    "\n",
    "4. Wait for a 10 and celebrate"
   ]
  },
  {
   "cell_type": "markdown",
   "metadata": {},
   "source": [
    "Based on our research question, the goal is to understand the factors that would lead to a high water stree index on how a country can prevent it from beign in such a situation."
   ]
  },
  {
   "cell_type": "code",
   "execution_count": 89,
   "metadata": {},
   "outputs": [],
   "source": [
    "# First define X and Y data to fit the model. We take the independent columns that we think might determine the water stress.\n",
    "X = df.iloc[:, 2:8].values\n",
    "y = df[\"high\"]\n",
    "\n",
    "# Create and instance of a decision tree and fit the model\n",
    "clf = tree.DecisionTreeClassifier()\n",
    "clf = clf.fit(X, y)\n"
   ]
  },
  {
   "cell_type": "code",
   "execution_count": 90,
   "metadata": {},
   "outputs": [
    {
     "data": {
      "text/plain": [
       "'water_stress_tree.png'"
      ]
     },
     "execution_count": 90,
     "metadata": {},
     "output_type": "execute_result"
    }
   ],
   "source": [
    "dot_data = tree.export_graphviz(clf, out_file=None,\n",
    "                                feature_names=df.columns[2:8],\n",
    "                                class_names=[\"high\", \"low\"],\n",
    "                                filled=True, rounded=True,\n",
    "                                special_characters=True)\n",
    "\n",
    "graph = Source(dot_data)\n",
    "graph.format = 'png'\n",
    "graph.render('water_stress_tree', view=True)\n"
   ]
  },
  {
   "cell_type": "markdown",
   "metadata": {},
   "source": [
    "From the tree, we can see that the amount of water resources is key to have a low water stress index. This is one of the most important advantage of decision tress, that they are easy to interpret. For example, if a country gets below 5.31 billion cubic metric of renewable water resources, it will be an indication that it might get high water stress problem. But it is now the only indicator, even if it has high water resources, it needs to have a not to high gpd, probably because more production needs more water and that could lead to water depletion, and so on. Also having low proportion of agricultural land is an indicator of low water stress. That can be explained by the amounts of water needed to feed animals used for production.\n",
    "\n",
    "Now we have an idea of what can determine a high water stress, but it necessary to know how good the model performs. For this, we will apply a train-test split to assess the accuracy of the model. With the train data we will generate the tree and with the test we will predict for new data and see how well it does"
   ]
  },
  {
   "cell_type": "code",
   "execution_count": 79,
   "metadata": {},
   "outputs": [
    {
     "name": "stdout",
     "output_type": "stream",
     "text": [
      "Accuracy: 0.7037037037037037\n"
     ]
    }
   ],
   "source": [
    "X_train, X_test, y_train, y_test = train_test_split(\n",
    "    X, y, test_size=0.3, random_state=1)  # 70% training and 30% test\n",
    "\n",
    "# Create Decision Tree classifer object\n",
    "clf = tree.DecisionTreeClassifier()\n",
    "\n",
    "# Train Decision Tree Classifer\n",
    "clf = clf.fit(X_train, y_train)\n",
    "\n",
    "# Predict the response for test dataset\n",
    "y_pred = clf.predict(X_test)\n",
    "\n",
    "# Model Accuracy, how often is the classifier correct?\n",
    "print(\"Accuracy:\", metrics.accuracy_score(y_test, y_pred))\n"
   ]
  },
  {
   "cell_type": "markdown",
   "metadata": {},
   "source": [
    "It seems that the accuracy is not too bad for new data, but we can improve the model by using a differente creiterion than _gini_, so we will try _entropy_, and to restrict the depth of the tree so we can get a less overfitted model"
   ]
  },
  {
   "cell_type": "code",
   "execution_count": 93,
   "metadata": {},
   "outputs": [
    {
     "name": "stdout",
     "output_type": "stream",
     "text": [
      "Accuracy: 0.7407407407407407\n"
     ]
    }
   ],
   "source": [
    "# Create Decision Tree classifer object\n",
    "clf_opt = tree.DecisionTreeClassifier(criterion=\"entropy\", max_depth=5)\n",
    "\n",
    "# Train Decision Tree Classifer\n",
    "clf_opt = clf_opt.fit(X_train, y_train)\n",
    "\n",
    "# Predict the response for test dataset\n",
    "y_pred = clf_opt.predict(X_test)\n",
    "\n",
    "# Model Accuracy, how often is the classifier correct?\n",
    "print(\"Accuracy:\", metrics.accuracy_score(y_test, y_pred))\n"
   ]
  },
  {
   "cell_type": "markdown",
   "metadata": {},
   "source": [
    "This last tree seems to be doing pretty well, and we can see that some variable like _gdp_ are not that important compared to the tree without validation. This last tree is quite easy to understand and to get insights, which can help to understand and classify when a country has high water stress"
   ]
  },
  {
   "cell_type": "code",
   "execution_count": 88,
   "metadata": {},
   "outputs": [
    {
     "data": {
      "text/plain": [
       "'water_stress_tree_opt.png'"
      ]
     },
     "execution_count": 88,
     "metadata": {},
     "output_type": "execute_result"
    }
   ],
   "source": [
    "dot_data = tree.export_graphviz(clf, out_file=None,\n",
    "                                feature_names=df.columns[2:8],\n",
    "                                class_names=[\"high\", \"low\"],\n",
    "                                filled=True, rounded=True,\n",
    "                                special_characters=True)\n",
    "\n",
    "graph = Source(dot_data)\n",
    "graph.format = 'png'\n",
    "graph.render('water_stress_tree_opt', view=True)\n"
   ]
  },
  {
   "cell_type": "markdown",
   "metadata": {},
   "source": [
    "Although, decision trees can be biased and sensitive to variations, so to try to improve the model some options are available to reduce the variance and the bias. To get a better model, we will implement a random forest and boosting models. The advantage of this models is that they are based on decision trees, so the approach is similar and can generate better results given its robustness and accuracy, but the problem is that the interpretation is not that easy as a single tree and it can be slow to compute\n",
    "\n",
    "First, we fit the random forest"
   ]
  },
  {
   "cell_type": "code",
   "execution_count": 97,
   "metadata": {},
   "outputs": [
    {
     "name": "stdout",
     "output_type": "stream",
     "text": [
      "Accuracy: 0.8148148148148148\n"
     ]
    }
   ],
   "source": [
    "# Create a Gaussian Classifier\n",
    "rf = RandomForestClassifier(n_estimators=100)\n",
    "\n",
    "# Train the model using the training sets y_pred=rf.predict(X_test)\n",
    "rf.fit(X_train, y_train)\n",
    "\n",
    "y_pred = rf.predict(X_test)\n",
    "\n",
    "print(\"Accuracy:\", metrics.accuracy_score(y_test, y_pred))\n"
   ]
  },
  {
   "cell_type": "markdown",
   "metadata": {},
   "source": [
    "One of the advantages of random forests is that we can see how important is each feature by taking a look at the node impurity decrease averaged over all trees of the ensemble. From the importance score index, as we saw in the optimized decision tree, we can see the amount of renewable resources and the proportion of land used in agriculture are important to determine a high level of water stress."
   ]
  },
  {
   "cell_type": "code",
   "execution_count": 100,
   "metadata": {},
   "outputs": [
    {
     "data": {
      "text/plain": [
       "renewable    0.249369\n",
       "agr          0.190578\n",
       "emission     0.167606\n",
       "gdp          0.157641\n",
       "mngmt        0.136132\n",
       "elec         0.098674\n",
       "dtype: float64"
      ]
     },
     "execution_count": 100,
     "metadata": {},
     "output_type": "execute_result"
    }
   ],
   "source": [
    "feature_imp = pd.Series(rf.feature_importances_,\n",
    "                        index=df.columns[2:8]).sort_values(ascending=False)\n",
    "feature_imp\n"
   ]
  },
  {
   "cell_type": "code",
   "execution_count": 101,
   "metadata": {},
   "outputs": [
    {
     "name": "stderr",
     "output_type": "stream",
     "text": [
      "No artists with labels found to put in legend.  Note that artists whose label start with an underscore are ignored when legend() is called with no argument.\n"
     ]
    },
    {
     "data": {
      "image/png": "[encoded data removed]",
      "text/plain": [
       "<Figure size 432x288 with 1 Axes>"
      ]
     },
     "metadata": {
      "needs_background": "light"
     },
     "output_type": "display_data"
    }
   ],
   "source": [
    "import matplotlib.pyplot as plt\n",
    "import seaborn as sns\n",
    "%matplotlib inline\n",
    "# Creating a bar plot\n",
    "sns.barplot(x=feature_imp, y=feature_imp.index)\n",
    "# Add labels to your graph\n",
    "plt.xlabel('Feature Importance Score')\n",
    "plt.ylabel('Features')\n",
    "plt.title(\"Visualizing Important Features\")\n",
    "plt.legend()\n",
    "plt.show()\n"
   ]
  },
  {
   "cell_type": "markdown",
   "metadata": {},
   "source": [
    "By determining the most important features in a random forest ensemble, we can fit a model with the top features and see if the accuracy can be improved"
   ]
  },
  {
   "cell_type": "code",
   "execution_count": 106,
   "metadata": {},
   "outputs": [],
   "source": [
    "X_feat = df[['renewable', 'agr', 'emission']]  # Removed feature \"sepal length\"\n",
    "y_feat = df['high']\n",
    "\n",
    "# Split dataset into training set and test set\n",
    "X_train_feat, X_test_feat, y_train_feat, y_test_feat = train_test_split(\n",
    "    X_feat, y_feat, test_size=0.70, random_state=5)  # 70% training and 30% test\n"
   ]
  },
  {
   "cell_type": "code",
   "execution_count": 105,
   "metadata": {},
   "outputs": [
    {
     "name": "stdout",
     "output_type": "stream",
     "text": [
      "Accuracy: 0.7857142857142857\n"
     ]
    }
   ],
   "source": [
    "from sklearn import metrics\n",
    "clf_feat = RandomForestClassifier(n_estimators=100)\n",
    "\n",
    "# Train the model using the training sets y_pred=clf.predict(X_test)\n",
    "clf_feat.fit(X_train_feat, y_train_feat)\n",
    "\n",
    "# prediction on test set\n",
    "y_pred_feat = clf_feat.predict(X_test_feat)\n",
    "\n",
    "# Import scikit-learn metrics module for accuracy calculation\n",
    "# Model Accuracy, how often is the classifier correct?\n",
    "print(\"Accuracy:\", metrics.accuracy_score(y_test_feat, y_pred_feat))\n"
   ]
  },
  {
   "cell_type": "markdown",
   "metadata": {},
   "source": [
    "Unfortunately, the metric is not improving but decreasing, so its better to use the first random forest estimated\n",
    "Now we will try gradient boosting. This approach train a decision tree and based on the results it trains a second tree to try to improve the metrics. Like Random Forests, it uses many trees but a difference is that this approach is better at reducing the bias, meanwhile Random Forests is better at reducing variance. After fitting the model we its clear that the performance is not too good, and that using a random forest is a better approach."
   ]
  },
  {
   "cell_type": "code",
   "execution_count": 108,
   "metadata": {},
   "outputs": [
    {
     "data": {
      "text/plain": [
       "0.6851851851851852"
      ]
     },
     "execution_count": 108,
     "metadata": {},
     "output_type": "execute_result"
    }
   ],
   "source": [
    "clf = GradientBoostingClassifier(n_estimators=100, learning_rate=1.0,\n",
    "                                 max_depth=1, random_state=0).fit(X_train, y_train)\n",
    "clf.score(X_test, y_test)\n"
   ]
  },
  {
   "cell_type": "markdown",
   "metadata": {},
   "source": [
    "#### 1.3 Conclusion"
   ]
  },
  {
   "cell_type": "markdown",
   "metadata": {},
   "source": [
    "In order to determine what can cause a high water stress index, we collected data from the UN Water database for 2019 and analyzed it using decision trees approach. We started using a single tree to see what are the most relevant factors, and later we implemented ensemble models like random forests and gradient boosting. Based on the metrics, it is clear that the RF approach was better in generalizing new data and it was a more robust approach than using a single tree.\n",
    "\n",
    "From our analysis, we can see that mantaining healthy water resources management, not using too much of agrucltural land and limiting the national production can be a way to maintain a low water stress index."
   ]
  },
  {
   "cell_type": "markdown",
   "metadata": {},
   "source": [
    "2.2 Cities water risk"
   ]
  },
  {
   "cell_type": "code",
   "execution_count": 111,
   "metadata": {},
   "outputs": [],
   "source": [
    "df_2017_risk = pd.read_csv(\"data/2017_Cities_Water_Risks.csv\")\n",
    "df_2018_risk = pd.read_csv(\"data/2018_Cities_Water_Risks.csv\")\n",
    "df_2017_actions = pd.read_csv(\"data/2017_-_Cities_Water_Actions.csv\")\n",
    "df_2018_actions = pd.read_csv(\"data/2018_-_Cities_Water_Actions.csv\")\n"
   ]
  },
  {
   "cell_type": "code",
   "execution_count": 119,
   "metadata": {},
   "outputs": [
    {
     "name": "stdout",
     "output_type": "stream",
     "text": [
      "709 308\n",
      "608 271\n",
      "625 285\n",
      "685 255\n"
     ]
    }
   ],
   "source": [
    "for df in [df_2017_risk, df_2018_risk, df_2017_actions, df_2018_actions]:\n",
    "      print(df.shape[0], len(df[\"Account No\"].unique()))"
   ]
  },
  {
   "cell_type": "code",
   "execution_count": 122,
   "metadata": {},
   "outputs": [
    {
     "data": {
      "text/html": [
       "<div>\n",
       "<style scoped>\n",
       "    .dataframe tbody tr th:only-of-type {\n",
       "        vertical-align: middle;\n",
       "    }\n",
       "\n",
       "    .dataframe tbody tr th {\n",
       "        vertical-align: top;\n",
       "    }\n",
       "\n",
       "    .dataframe thead th {\n",
       "        text-align: right;\n",
       "    }\n",
       "</style>\n",
       "<table border=\"1\" class=\"dataframe\">\n",
       "  <thead>\n",
       "    <tr style=\"text-align: right;\">\n",
       "      <th></th>\n",
       "      <th>Account No</th>\n",
       "      <th>Organisation</th>\n",
       "      <th>City</th>\n",
       "      <th>Country</th>\n",
       "      <th>Region</th>\n",
       "      <th>Access</th>\n",
       "      <th>C40</th>\n",
       "      <th>Reporting year</th>\n",
       "      <th>Risks to city’s water supply</th>\n",
       "      <th>​Timescale</th>\n",
       "      <th>Magnitude</th>\n",
       "      <th>Risk description</th>\n",
       "      <th>Current population</th>\n",
       "      <th>Population year</th>\n",
       "      <th>City location</th>\n",
       "      <th>Country location</th>\n",
       "    </tr>\n",
       "  </thead>\n",
       "  <tbody>\n",
       "    <tr>\n",
       "      <th>0</th>\n",
       "      <td>54100</td>\n",
       "      <td>City of Columbia, MO</td>\n",
       "      <td>Columbia, MO</td>\n",
       "      <td>USA</td>\n",
       "      <td>North America</td>\n",
       "      <td>Public</td>\n",
       "      <td>NaN</td>\n",
       "      <td>2017</td>\n",
       "      <td>Flooding</td>\n",
       "      <td>NaN</td>\n",
       "      <td>NaN</td>\n",
       "      <td>NaN</td>\n",
       "      <td>119098</td>\n",
       "      <td>2017</td>\n",
       "      <td>(38.951705, -92.334072)</td>\n",
       "      <td>(37.09024, -95.712891)</td>\n",
       "    </tr>\n",
       "    <tr>\n",
       "      <th>110</th>\n",
       "      <td>54100</td>\n",
       "      <td>City of Columbia, MO</td>\n",
       "      <td>Columbia, MO</td>\n",
       "      <td>USA</td>\n",
       "      <td>North America</td>\n",
       "      <td>Public</td>\n",
       "      <td>NaN</td>\n",
       "      <td>2017</td>\n",
       "      <td>Declining water quality</td>\n",
       "      <td>Medium-term</td>\n",
       "      <td>Less serious</td>\n",
       "      <td>The McBaine wells are somewhat susceptible to ...</td>\n",
       "      <td>119098</td>\n",
       "      <td>2017</td>\n",
       "      <td>(38.951705, -92.334072)</td>\n",
       "      <td>(37.09024, -95.712891)</td>\n",
       "    </tr>\n",
       "    <tr>\n",
       "      <th>111</th>\n",
       "      <td>54100</td>\n",
       "      <td>City of Columbia, MO</td>\n",
       "      <td>Columbia, MO</td>\n",
       "      <td>USA</td>\n",
       "      <td>North America</td>\n",
       "      <td>Public</td>\n",
       "      <td>NaN</td>\n",
       "      <td>2017</td>\n",
       "      <td>Declining water quality</td>\n",
       "      <td>NaN</td>\n",
       "      <td>NaN</td>\n",
       "      <td>NaN</td>\n",
       "      <td>119098</td>\n",
       "      <td>2017</td>\n",
       "      <td>(38.951705, -92.334072)</td>\n",
       "      <td>(37.09024, -95.712891)</td>\n",
       "    </tr>\n",
       "    <tr>\n",
       "      <th>112</th>\n",
       "      <td>54100</td>\n",
       "      <td>City of Columbia, MO</td>\n",
       "      <td>Columbia, MO</td>\n",
       "      <td>USA</td>\n",
       "      <td>North America</td>\n",
       "      <td>Public</td>\n",
       "      <td>NaN</td>\n",
       "      <td>2017</td>\n",
       "      <td>Declining water quality</td>\n",
       "      <td>NaN</td>\n",
       "      <td>NaN</td>\n",
       "      <td>NaN</td>\n",
       "      <td>119098</td>\n",
       "      <td>2017</td>\n",
       "      <td>(38.951705, -92.334072)</td>\n",
       "      <td>(37.09024, -95.712891)</td>\n",
       "    </tr>\n",
       "    <tr>\n",
       "      <th>343</th>\n",
       "      <td>54100</td>\n",
       "      <td>City of Columbia, MO</td>\n",
       "      <td>Columbia, MO</td>\n",
       "      <td>USA</td>\n",
       "      <td>North America</td>\n",
       "      <td>Public</td>\n",
       "      <td>NaN</td>\n",
       "      <td>2017</td>\n",
       "      <td>Inadequate or aging infrastructure</td>\n",
       "      <td>Medium-term</td>\n",
       "      <td>Serious</td>\n",
       "      <td>There is not enough infrastructure to meet fut...</td>\n",
       "      <td>119098</td>\n",
       "      <td>2017</td>\n",
       "      <td>(38.951705, -92.334072)</td>\n",
       "      <td>(37.09024, -95.712891)</td>\n",
       "    </tr>\n",
       "    <tr>\n",
       "      <th>543</th>\n",
       "      <td>54100</td>\n",
       "      <td>City of Columbia, MO</td>\n",
       "      <td>Columbia, MO</td>\n",
       "      <td>USA</td>\n",
       "      <td>North America</td>\n",
       "      <td>Public</td>\n",
       "      <td>NaN</td>\n",
       "      <td>2017</td>\n",
       "      <td>Increased water stress or scarcity</td>\n",
       "      <td>Medium-term</td>\n",
       "      <td>Serious</td>\n",
       "      <td>The current supply is adequate for present nee...</td>\n",
       "      <td>119098</td>\n",
       "      <td>2017</td>\n",
       "      <td>(38.951705, -92.334072)</td>\n",
       "      <td>(37.09024, -95.712891)</td>\n",
       "    </tr>\n",
       "  </tbody>\n",
       "</table>\n",
       "</div>"
      ],
      "text/plain": [
       "     Account No          Organisation          City Country         Region  \\\n",
       "0         54100  City of Columbia, MO  Columbia, MO     USA  North America   \n",
       "110       54100  City of Columbia, MO  Columbia, MO     USA  North America   \n",
       "111       54100  City of Columbia, MO  Columbia, MO     USA  North America   \n",
       "112       54100  City of Columbia, MO  Columbia, MO     USA  North America   \n",
       "343       54100  City of Columbia, MO  Columbia, MO     USA  North America   \n",
       "543       54100  City of Columbia, MO  Columbia, MO     USA  North America   \n",
       "\n",
       "     Access  C40  Reporting year        Risks to city’s water supply  \\\n",
       "0    Public  NaN            2017                            Flooding   \n",
       "110  Public  NaN            2017             Declining water quality   \n",
       "111  Public  NaN            2017             Declining water quality   \n",
       "112  Public  NaN            2017             Declining water quality   \n",
       "343  Public  NaN            2017  Inadequate or aging infrastructure   \n",
       "543  Public  NaN            2017  Increased water stress or scarcity   \n",
       "\n",
       "      ​Timescale     Magnitude  \\\n",
       "0            NaN           NaN   \n",
       "110  Medium-term  Less serious   \n",
       "111          NaN           NaN   \n",
       "112          NaN           NaN   \n",
       "343  Medium-term       Serious   \n",
       "543  Medium-term       Serious   \n",
       "\n",
       "                                      Risk description  Current population  \\\n",
       "0                                                  NaN              119098   \n",
       "110  The McBaine wells are somewhat susceptible to ...              119098   \n",
       "111                                                NaN              119098   \n",
       "112                                                NaN              119098   \n",
       "343  There is not enough infrastructure to meet fut...              119098   \n",
       "543  The current supply is adequate for present nee...              119098   \n",
       "\n",
       "     Population year            City location        Country location  \n",
       "0               2017  (38.951705, -92.334072)  (37.09024, -95.712891)  \n",
       "110             2017  (38.951705, -92.334072)  (37.09024, -95.712891)  \n",
       "111             2017  (38.951705, -92.334072)  (37.09024, -95.712891)  \n",
       "112             2017  (38.951705, -92.334072)  (37.09024, -95.712891)  \n",
       "343             2017  (38.951705, -92.334072)  (37.09024, -95.712891)  \n",
       "543             2017  (38.951705, -92.334072)  (37.09024, -95.712891)  "
      ]
     },
     "execution_count": 122,
     "metadata": {},
     "output_type": "execute_result"
    }
   ],
   "source": [
    "df_2017_risk[df_2017_risk[\"Account No\"]==54100]"
   ]
  },
  {
   "cell_type": "code",
   "execution_count": 123,
   "metadata": {},
   "outputs": [
    {
     "data": {
      "text/html": [
       "<div>\n",
       "<style scoped>\n",
       "    .dataframe tbody tr th:only-of-type {\n",
       "        vertical-align: middle;\n",
       "    }\n",
       "\n",
       "    .dataframe tbody tr th {\n",
       "        vertical-align: top;\n",
       "    }\n",
       "\n",
       "    .dataframe thead th {\n",
       "        text-align: right;\n",
       "    }\n",
       "</style>\n",
       "<table border=\"1\" class=\"dataframe\">\n",
       "  <thead>\n",
       "    <tr style=\"text-align: right;\">\n",
       "      <th></th>\n",
       "      <th>Account No</th>\n",
       "      <th>Organisation</th>\n",
       "      <th>City</th>\n",
       "      <th>Country</th>\n",
       "      <th>Region</th>\n",
       "      <th>Access</th>\n",
       "      <th>C40</th>\n",
       "      <th>Reporting year</th>\n",
       "      <th>Risks to city's water supply</th>\n",
       "      <th>​Adaptation action</th>\n",
       "      <th>Action description</th>\n",
       "      <th>City Location</th>\n",
       "      <th>Country Location</th>\n",
       "    </tr>\n",
       "  </thead>\n",
       "  <tbody>\n",
       "    <tr>\n",
       "      <th>427</th>\n",
       "      <td>54100</td>\n",
       "      <td>City of Columbia, MO</td>\n",
       "      <td>Columbia, MO</td>\n",
       "      <td>USA</td>\n",
       "      <td>North America</td>\n",
       "      <td>Public</td>\n",
       "      <td>NaN</td>\n",
       "      <td>2017</td>\n",
       "      <td>Increased water stress or scarcity</td>\n",
       "      <td>Conservation awareness and education</td>\n",
       "      <td>Actions under consideration (currently seeking...</td>\n",
       "      <td>(38.951705, -92.334072)</td>\n",
       "      <td>(37.09024, -95.712891)</td>\n",
       "    </tr>\n",
       "    <tr>\n",
       "      <th>428</th>\n",
       "      <td>54100</td>\n",
       "      <td>City of Columbia, MO</td>\n",
       "      <td>Columbia, MO</td>\n",
       "      <td>USA</td>\n",
       "      <td>North America</td>\n",
       "      <td>Public</td>\n",
       "      <td>NaN</td>\n",
       "      <td>2017</td>\n",
       "      <td>Declining water quality</td>\n",
       "      <td>Watershed preservation</td>\n",
       "      <td>We must exercise caution with regard to land u...</td>\n",
       "      <td>(38.951705, -92.334072)</td>\n",
       "      <td>(37.09024, -95.712891)</td>\n",
       "    </tr>\n",
       "    <tr>\n",
       "      <th>429</th>\n",
       "      <td>54100</td>\n",
       "      <td>City of Columbia, MO</td>\n",
       "      <td>Columbia, MO</td>\n",
       "      <td>USA</td>\n",
       "      <td>North America</td>\n",
       "      <td>Public</td>\n",
       "      <td>NaN</td>\n",
       "      <td>2017</td>\n",
       "      <td>Inadequate or aging infrastructure</td>\n",
       "      <td>Investment in existing water supply infrastruc...</td>\n",
       "      <td>Actions under consideration: \\n\\nAlternatives ...</td>\n",
       "      <td>(38.951705, -92.334072)</td>\n",
       "      <td>(37.09024, -95.712891)</td>\n",
       "    </tr>\n",
       "  </tbody>\n",
       "</table>\n",
       "</div>"
      ],
      "text/plain": [
       "     Account No          Organisation          City Country         Region  \\\n",
       "427       54100  City of Columbia, MO  Columbia, MO     USA  North America   \n",
       "428       54100  City of Columbia, MO  Columbia, MO     USA  North America   \n",
       "429       54100  City of Columbia, MO  Columbia, MO     USA  North America   \n",
       "\n",
       "     Access  C40  Reporting year        Risks to city's water supply  \\\n",
       "427  Public  NaN            2017  Increased water stress or scarcity   \n",
       "428  Public  NaN            2017             Declining water quality   \n",
       "429  Public  NaN            2017  Inadequate or aging infrastructure   \n",
       "\n",
       "                                    ​Adaptation action  \\\n",
       "427               Conservation awareness and education   \n",
       "428                             Watershed preservation   \n",
       "429  Investment in existing water supply infrastruc...   \n",
       "\n",
       "                                    Action description  \\\n",
       "427  Actions under consideration (currently seeking...   \n",
       "428  We must exercise caution with regard to land u...   \n",
       "429  Actions under consideration: \\n\\nAlternatives ...   \n",
       "\n",
       "               City Location        Country Location  \n",
       "427  (38.951705, -92.334072)  (37.09024, -95.712891)  \n",
       "428  (38.951705, -92.334072)  (37.09024, -95.712891)  \n",
       "429  (38.951705, -92.334072)  (37.09024, -95.712891)  "
      ]
     },
     "execution_count": 123,
     "metadata": {},
     "output_type": "execute_result"
    }
   ],
   "source": [
    "df_2017_actions[df_2017_actions[\"Account No\"]==54100]"
   ]
  }
 ],
 "metadata": {
  "kernelspec": {
   "display_name": "Python 3.10.4 64-bit",
   "language": "python",
   "name": "python3"
  },
  "language_info": {
   "codemirror_mode": {
    "name": "ipython",
    "version": 3
   },
   "file_extension": ".py",
   "mimetype": "text/x-python",
   "name": "python",
   "nbconvert_exporter": "python",
   "pygments_lexer": "ipython3",
   "version": "3.10.4"
  },
  "orig_nbformat": 4,
  "vscode": {
   "interpreter": {
    "hash": "916dbcbb3f70747c44a77c7bcd40155683ae19c65e1c03b4aa3499c5328201f1"
   }
  }
 },
 "nbformat": 4,
 "nbformat_minor": 2
}
