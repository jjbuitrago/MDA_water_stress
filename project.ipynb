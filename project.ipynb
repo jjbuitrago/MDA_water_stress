{
 "cells": [
  {
   "cell_type": "markdown",
   "metadata": {},
   "source": [
    "# Water security project for Modern Data Analytics "
   ]
  },
  {
   "cell_type": "markdown",
   "metadata": {},
   "source": [
    "## 1. Water gathering and preprocessing"
   ]
  },
  {
   "cell_type": "markdown",
   "metadata": {},
   "source": [
    "#### The data was downloaded from the Aqueduct 3.0: Updated Decision-Relevant Global Water Risk Indicators provided by the World Resources Institute. The report can be found in https://www.wri.org/research/aqueduct-30-updated-decision-relevant-global-water-risk-indicators\n",
    "\n",
    "The metadata can be found here https://github.com/wri/aqueduct30_data_download/blob/master/metadata.md"
   ]
  },
  {
   "cell_type": "code",
   "execution_count": 70,
   "metadata": {},
   "outputs": [],
   "source": [
    "import pandas as pd\n",
    "\n",
    "#df_w = pd.read_csv(\"data/y2019m07d11_aqueduct30_annual_v01.csv\")"
   ]
  },
  {
   "cell_type": "code",
   "execution_count": 71,
   "metadata": {},
   "outputs": [],
   "source": [
    "# Keep the relevant columns regarding water stress, water depletion and risks.\n",
    "#df_w = df_w[df_w.columns[:60]]"
   ]
  },
  {
   "cell_type": "markdown",
   "metadata": {},
   "source": [
    "## 2. United Nations UN water data"
   ]
  },
  {
   "cell_type": "markdown",
   "metadata": {},
   "source": [
    "Using the United Nations Water webpage, we can build a dataframe that brings global indicators regarding social, economical and enviromental indicators. Even if the webpage is itself an interactive map, we can make use of the API that the browser uses to get the data. By taking a look at how the browser would make use of the API, we would do it the same way by changing some parameters. Later, we would analyze the data using the tools reviewed in the lectures"
   ]
  },
  {
   "cell_type": "markdown",
   "metadata": {},
   "source": [
    "#### 2.1 Data fetch\n",
    "\n",
    "When we open the webpage https://sdg6data.org/data-lab, we can filter by which indicators we want to see in the map and in which region. With the use of the browser tools, it is possible to get the cUrl that the browser does. After some attempts, it is possible to see the url that the API uses and some of the parameters that change in each request. This parameters will be stored in _indicators_ so we can loop the same process to build a dataframe"
   ]
  },
  {
   "cell_type": "code",
   "execution_count": 72,
   "metadata": {},
   "outputs": [],
   "source": [
    "import requests\n",
    "\n",
    "# 6.1.1 Proportion of population using safely managed drinking water services\n",
    "url = \"https://www.sdg6data.org/handle-ajax-callback\"\n",
    "\n",
    "headers = {\n",
    "    \"User-Agent\": \"Mozilla/5.0 (X11; Linux x86_64; rv:103.0) Gecko/20100101 Firefox/103.0\",\n",
    "    \"Accept\": \"*/*\",\n",
    "    \"Accept-Language\": \"en-US,en;q=0.5\",\n",
    "    \"Content-Type\": \"application/x-www-form-urlencoded; charset=UTF-8\",\n",
    "    \"X-Requested-With\": \"XMLHttpRequest\",\n",
    "    \"Sec-Fetch-Dest\": \"empty\",\n",
    "    \"Sec-Fetch-Mode\": \"cors\",\n",
    "    \"Sec-Fetch-Site\": \"same-origin\"\n",
    "}\n",
    "\n",
    "indicators = [\n",
    "    (\"79_80\", \"0.00\", \"3,850.49\", \"stress\"), # Water stress\n",
    "    (\"82_83\", \"0.00\", \"100.00\", \"mngmt\"), # Water resource management\n",
    "    (\"84_85\", \"0.00\", \"100.00\", \"basin\"), # Transboundary basin area\n",
    "    (\"135_137_138\", \"0.00\", \"8,647.00\", \"renewable\"), # Renewable water\n",
    "    (\"1_2_3_4\", \"0.00\", \"100.00\", \"safe\"), # Proportion of population using safely managed drinking water services\n",
    "    (\"483_508\", \"731.06\", \"112,226.90\", \"gdp\"), # GDP per capita\n",
    "    (\"483_503\", \"0.00\", \"100.0\", \"elec\"), # Proportion of population with access to electricity\n",
    "    (\"484_492\", \"0.00\", \"100.00\", \"poverty\"), # Poverty\n",
    "    (\"485_499\", \"0.00\", \"100.00\", \"agr\") # Agricultural land \n",
    "]"
   ]
  },
  {
   "cell_type": "markdown",
   "metadata": {},
   "source": [
    "The following function will receive 4 arguments to build a __df__. It will create the _body_ needed for the request and it will return the __df__ with the information by country"
   ]
  },
  {
   "cell_type": "code",
   "execution_count": 76,
   "metadata": {},
   "outputs": [],
   "source": [
    "def generate_df(indicator, min_bound, max_bound, col_name):\n",
    "    r\"\"\"\n",
    "    So after taking a look at the API that the UN Water uses to get the data, it asks for the values regarding the locations, the number of the indicator and the ranges.\n",
    "    Given that the URL and the headers are the same, there are a few parameters that change between each request\n",
    "    \n",
    "    Keyword arguments:\n",
    "    indicator -- is like the id of the indicator desired to be fetch\n",
    "    min_bound -- is the minimum value possible to get. In the website it is possible to filter by this value\n",
    "    max_bound -- is the maximum value possible to get. In the website it is possible to filter by this value\n",
    "    col_name -- is the name of the column in the pd.DataFrame\n",
    "    \"\"\"\n",
    "\n",
    "    body = f\"allRegion%5B%5D=World--World&allRegion%5B%5D=Geographical+region--Latin+America+and+the+Caribbean&allRegion%5B%5D=Geographical+region--Asia&allRegion%5B%5D=Geographical+region--Europe&allRegion%5B%5D=Geographical+region--Northern+Africa&allRegion%5B%5D=Geographical+region--Northern+America&allRegion%5B%5D=Geographical+region--Oceania&allRegion%5B%5D=Geographical+region--Sub-Saharan+Africa&indicators%5B%5D={indicator}&ranges%5B0%5D%5B%5D={min_bound}&ranges%5B0%5D%5B%5D={max_bound}\"\n",
    "    req = requests.post(url, headers=headers, data=body)\n",
    "    data = req.json()[\"commonCountriesDataTable\"]\n",
    "    df = pd.DataFrame()\n",
    "    df[\"country\"] = data.keys()\n",
    "    df[col_name] = data.values()\n",
    "    return df"
   ]
  },
  {
   "cell_type": "markdown",
   "metadata": {},
   "source": [
    "_indicators_ will be looped using the function created and it will be joined to a first __df__ created using the _water stress_ variable given that it is an important variable for the analysis. The result will be a dataframe with 9 variable of 179 countries"
   ]
  },
  {
   "cell_type": "code",
   "execution_count": 77,
   "metadata": {},
   "outputs": [],
   "source": [
    "ind, min, max, col_name = indicators[0]\n",
    "df = generate_df(ind, min, max, col_name)\n",
    "\n",
    "for ind, min, max, col_name in indicators[1:]:\n",
    "    df_1 = generate_df(ind, min, max, col_name)\n",
    "    df = pd.merge(df, df_1, how=\"left\", on=[\"country\", \"country\"])"
   ]
  }
 ],
 "metadata": {
  "kernelspec": {
   "display_name": "Python 3.10.4 64-bit",
   "language": "python",
   "name": "python3"
  },
  "language_info": {
   "codemirror_mode": {
    "name": "ipython",
    "version": 3
   },
   "file_extension": ".py",
   "mimetype": "text/x-python",
   "name": "python",
   "nbconvert_exporter": "python",
   "pygments_lexer": "ipython3",
   "version": "3.10.4"
  },
  "orig_nbformat": 4,
  "vscode": {
   "interpreter": {
    "hash": "916dbcbb3f70747c44a77c7bcd40155683ae19c65e1c03b4aa3499c5328201f1"
   }
  }
 },
 "nbformat": 4,
 "nbformat_minor": 2
}
